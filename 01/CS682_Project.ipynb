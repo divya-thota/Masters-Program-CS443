{
  "nbformat": 4,
  "nbformat_minor": 0,
  "metadata": {
    "colab": {
      "name": "CS682 Project.ipynb",
      "provenance": [],
      "authorship_tag": "ABX9TyMYhOMdXcnI9WY79PXnBmK2",
      "include_colab_link": true
    },
    "kernelspec": {
      "name": "python3",
      "display_name": "Python 3"
    },
    "language_info": {
      "name": "python"
    }
  },
  "cells": [
    {
      "cell_type": "markdown",
      "metadata": {
        "id": "view-in-github",
        "colab_type": "text"
      },
      "source": [
        "<a href=\"https://colab.research.google.com/github/divya2648/CS443/blob/main/01/CS682_Project.ipynb\" target=\"_parent\"><img src=\"https://colab.research.google.com/assets/colab-badge.svg\" alt=\"Open In Colab\"/></a>"
      ]
    },
    {
      "cell_type": "code",
      "execution_count": null,
      "metadata": {
        "id": "CIAXCOmxGSgb"
      },
      "outputs": [],
      "source": [
        "import requests\n",
        "from geopy.geocoders import Nominatim\n",
        "import re"
      ]
    },
    {
      "cell_type": "code",
      "source": [
        "StrLocation = input(\"Enter Location:\")\n",
        "if re.search('[a-zA-Z]', StrLocation):\n",
        "  geolocator = Nominatim(user_agent='myapplication')\n",
        "  location = geolocator.geocode(StrLocation)\n",
        "  latValue = location.latitude\n",
        "  lonValue = location.longitude\n",
        "else:\n",
        "  latValue = StrLocation.split(',')[0]\n",
        "  lonValue = StrLocation.split(',')[1]\n"
      ],
      "metadata": {
        "colab": {
          "base_uri": "https://localhost:8080/"
        },
        "id": "3_il77IKcRYB",
        "outputId": "05c3f67d-f15f-4b0f-c7b6-986d93f31de0"
      },
      "execution_count": null,
      "outputs": [
        {
          "name": "stdout",
          "output_type": "stream",
          "text": [
            "Enter Location:Boston, MA\n"
          ]
        }
      ]
    },
    {
      "cell_type": "code",
      "source": [
        "print(latValue)\n",
        "print(lonValue)\n",
        "r = requests.get('https://power.larc.nasa.gov/api/temporal/hourly/point?start=20220308&end=20220309&latitude='+str(latValue)+'&longitude='+str(lonValue)+'&community=ag&parameters=TS&format=json&header=true&time-standard=lst')"
      ],
      "metadata": {
        "colab": {
          "base_uri": "https://localhost:8080/"
        },
        "id": "xANyJontIo3m",
        "outputId": "ccc4b0f3-63f8-452b-f5a1-e5309fe5721f"
      },
      "execution_count": null,
      "outputs": [
        {
          "output_type": "stream",
          "name": "stdout",
          "text": [
            "42.3602534\n",
            "-71.0582912\n"
          ]
        }
      ]
    },
    {
      "cell_type": "code",
      "source": [
        "r.json()"
      ],
      "metadata": {
        "colab": {
          "base_uri": "https://localhost:8080/"
        },
        "id": "tqdxnSehIyps",
        "outputId": "f9eea38f-c4ac-4a2c-9e36-d6579525361b"
      },
      "execution_count": null,
      "outputs": [
        {
          "output_type": "execute_result",
          "data": {
            "text/plain": [
              "{'geometry': {'coordinates': [-71.0582912, 42.3602534, 71.06],\n",
              "  'type': 'Point'},\n",
              " 'header': {'api': {'name': 'POWER Hourly API', 'version': 'v2.2.20'},\n",
              "  'end': '20220309',\n",
              "  'fill_value': -999.0,\n",
              "  'start': '20220308',\n",
              "  'title': 'NASA/POWER CERES/MERRA2 Native Resolution Hourly Data'},\n",
              " 'messages': [],\n",
              " 'parameters': {'TS': {'longname': 'Earth Skin Temperature', 'units': 'C'}},\n",
              " 'properties': {'parameter': {'TS': {'2022030800': -999.0,\n",
              "    '2022030801': -999.0,\n",
              "    '2022030802': -999.0,\n",
              "    '2022030803': -999.0,\n",
              "    '2022030804': -999.0,\n",
              "    '2022030805': -999.0,\n",
              "    '2022030806': -999.0,\n",
              "    '2022030807': -999.0,\n",
              "    '2022030808': -999.0,\n",
              "    '2022030809': -999.0,\n",
              "    '2022030810': -999.0,\n",
              "    '2022030811': -999.0,\n",
              "    '2022030812': -999.0,\n",
              "    '2022030813': -999.0,\n",
              "    '2022030814': -999.0,\n",
              "    '2022030815': -999.0,\n",
              "    '2022030816': -999.0,\n",
              "    '2022030817': -999.0,\n",
              "    '2022030818': -999.0,\n",
              "    '2022030819': -999.0,\n",
              "    '2022030820': -999.0,\n",
              "    '2022030821': -999.0,\n",
              "    '2022030822': -999.0,\n",
              "    '2022030823': -999.0,\n",
              "    '2022030900': -999.0,\n",
              "    '2022030901': -999.0,\n",
              "    '2022030902': -999.0,\n",
              "    '2022030903': -999.0,\n",
              "    '2022030904': -999.0,\n",
              "    '2022030905': -999.0,\n",
              "    '2022030906': -999.0,\n",
              "    '2022030907': -999.0,\n",
              "    '2022030908': -999.0,\n",
              "    '2022030909': -999.0,\n",
              "    '2022030910': -999.0,\n",
              "    '2022030911': -999.0,\n",
              "    '2022030912': -999.0,\n",
              "    '2022030913': -999.0,\n",
              "    '2022030914': -999.0,\n",
              "    '2022030915': -999.0,\n",
              "    '2022030916': -999.0,\n",
              "    '2022030917': -999.0,\n",
              "    '2022030918': -999.0,\n",
              "    '2022030919': -999.0,\n",
              "    '2022030920': -999.0,\n",
              "    '2022030921': -999.0,\n",
              "    '2022030922': -999.0,\n",
              "    '2022030923': -999.0}}},\n",
              " 'times': {'data': 1.518, 'process': 0.02},\n",
              " 'type': 'Feature'}"
            ]
          },
          "metadata": {},
          "execution_count": 63
        }
      ]
    }
  ]
}